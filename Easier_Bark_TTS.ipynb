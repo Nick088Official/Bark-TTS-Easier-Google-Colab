{
  "nbformat": 4,
  "nbformat_minor": 0,
  "metadata": {
    "colab": {
      "provenance": [],
      "include_colab_link": true
    },
    "kernelspec": {
      "name": "python3",
      "display_name": "Python 3"
    },
    "language_info": {
      "name": "python"
    },
    "accelerator": "GPU",
    "gpuClass": "standard"
  },
  "cells": [
    {
      "cell_type": "markdown",
      "metadata": {
        "id": "view-in-github",
        "colab_type": "text"
      },
      "source": [
        "<a href=\"https://colab.research.google.com/github/Nick088Official/Easier-Bark-TTS-Google-Colab/blob/main/Easier_Bark_TTS.ipynb\" target=\"_parent\"><img src=\"https://colab.research.google.com/assets/colab-badge.svg\" alt=\"Open In Colab\"/></a>"
      ]
    },
    {
      "cell_type": "markdown",
      "source": [
        "# Easier Bark TTS Google Colab\n",
        "\n",
        "[Bark TTS Made by Suno AI](https://github.com/suno-ai/bark)\n",
        "\n",
        "Google Colab Notebook Made by [Nick088](https://linktr.ee/Nick088)"
      ],
      "metadata": {
        "id": "rLyQUt8bgINx"
      }
    },
    {
      "cell_type": "code",
      "source": [
        "#@title Install Bark TTS\n",
        "# install bark (make sure you have torch>=2 for much faster flash-attention)\n",
        "!pip install git+https://github.com/suno-ai/bark.git\n",
        "from IPython.display import clear_output\n",
        "from bark import SAMPLE_RATE, generate_audio, preload_models\n",
        "from IPython.display import Audio\n",
        "\n",
        "preload_models()\n",
        "\n",
        "clear_output()\n",
        "print(\"Installed and loaded the models!\")"
      ],
      "metadata": {
        "id": "YkizeTpG_3T7",
        "cellView": "form"
      },
      "execution_count": null,
      "outputs": []
    },
    {
      "cell_type": "code",
      "source": [
        "#@title Generate TTS\n",
        "text_prompt = \"Hello, my friend, [laughs] how are you?\" #@param {type:\"string\"}\n",
        "\n",
        "#@markdown If you don't Use a Voice Preset, you will get a random voice or music, its recomended you use one\n",
        "\n",
        "#@markdown For using the Voice Presets, check the \"Use_Voice_Presets\" option and select the voice preset you want to use, you can find more info about them [HERE](https://suno-ai.notion.site/8b8e8749ed514b0cbf3f699013548683?v=bc67cff786b04b50b3ceb756fd05f68c), if you dont check the \"Use_Voice_Presets\" option you will use a random one.\n",
        "\n",
        "Use_Voice_Presets = True #@param {type:\"boolean\"}\n",
        "\n",
        "Voice_Preset = \"v2/en_speaker_5\" #@param ['v2/en_speaker_0', 'v2/en_speaker_1', 'v2/en_speaker_2', 'v2/en_speaker_3', 'v2/en_speaker_4', 'v2/en_speaker_5', 'v2/en_speaker_6', 'v2/en_speaker_7', 'v2/en_speaker_8', 'v2/en_speaker_9', 'v2/zh_speaker_0', 'v2/zh_speaker_1', 'v2/zh_speaker_2', 'v2/zh_speaker_3', 'v2/zh_speaker_4', 'v2/zh_speaker_5', 'v2/zh_speaker_6', 'v2/zh_speaker_7', 'v2/zh_speaker_8', 'v2/zh_speaker_9', 'v2/fr_speaker_0', 'v2/fr_speaker_1', 'v2/fr_speaker_2', 'v2/fr_speaker_3', 'v2/fr_speaker_4', 'v2/fr_speaker_5', 'v2/fr_speaker_6', 'v2/fr_speaker_7', 'v2/fr_speaker_8', 'v2/fr_speaker_9', 'v2/de_speaker_0', 'v2/de_speaker_1', 'v2/de_speaker_2', 'v2/de_speaker_3', 'v2/de_speaker_4', 'v2/de_speaker_5', 'v2/de_speaker_6', 'v2/de_speaker_7', 'v2/de_speaker_8', 'v2/de_speaker_9', 'v2/hi_speaker_0', 'v2/hi_speaker_1', 'v2/hi_speaker_2', 'v2/hi_speaker_aker_3', 'v2/hi_speaker_4', 'v2/hi_speaker_5', 'v2/hi_speaker_6', 'v2/hi_speaker_7', 'v2/hi_speaker_8', 'v2/hi_speaker_9', 'v2/it_speaker_0', 'v2/it_speaker_1', 'v2/it_speaker_2', 'v2/it_speaker_3', 'v2/it_speaker_4', 'v2/it_speaker_5', 'v2/it_speaker_6', 'v2/it_speaker_7', 'v2/it_speaker_8', 'v2/it_speaker_9', 'v2/ja_speaker_0', 'v2/ja_speaker_1', 'v2/ja_speaker_2', 'v2/ja_speaker_3', '/ja_speaker_4', 'v2/ja_speaker_5', 'v2/ja_speaker_6', 'v2/ja_speaker_7', 'v2/ja_speaker_8', 'v2/ja_speaker_9', 'v2/ko_speaker_0', 'v2/ko_speaker_1', 'v2/ko_speaker_2', 'v2/ko_speaker_3', 'v2/ko_speaker_4', 'v2/ko_speaker_5', 'v2/ko_speaker_6', 'v2/ko_speaker_7', 'v2/ko_speaker_8', 'v2/ko_speaker_9', 'v2/pl_speaker_0', 'v2/pl_speaker_1', 'v2/pl_speaker_2', 'v2/pl_speaker_3', 'v2/pl_speaker_4', 'v2/pl_speaker_5', 'v2/pl_speaker_6', 'v2/pl_speaker_7', 'v2/pl_speaker_8', 'v2/pl_speaker_9', 'v2/pt_speaker_0', 'v2/pt_speaker_1', 'v2/pt_speaker_2', 'v2/pt_speaker_3', 'v2/pt_speaker_4', 'v2/pt_speaker_5', 'v2/pt_speaker_6', 'v2/pt_speaker_7', 'v2/pt_speaker_8', 'v2/pt_speaker_9', 'v2/ru_speaker_0', 'v2/ru_speaker_1', 'v2/ru_speaker_2', 'v2/ru_speaker_3', 'v2/ru_speaker_4', 'v2/ru_speaker_5', 'v2/ru_speaker_6', 'v2/ru_speaker_7', 'v2/ru_speaker_8', 'v2/ru_speaker_9', 'v2/es_speaker_0', 'v2/es_speaker_1', 'v2/es_speaker_2', 'v2/es_speaker_3', 'v2/es_speaker_4', 'v2/es_speaker_5', 'v2/es_speaker_6', 'v2/es_speaker_7', 'v2/es_speaker_8', 'v2/es_speaker_9', 'v2/tr_speaker_0', 'v2/tr_speaker_1', 'v2/tr_speaker_2', 'v2/tr_speaker_3', 'v2/tr_speaker_4', 'v2/tr_speaker_5', 'v2/tr_speaker_6', 'v2/tr_speaker_7', 'v2/tr_speaker_8', 'v2/tr_speaker_9']\n",
        "\n",
        "if Use_Voice_Presets:\n",
        "    audio_array = generate_audio(text_prompt, history_prompt=Voice_Preset)\n",
        "else:\n",
        "    audio_array = generate_audio(text_prompt)\n",
        "\n",
        "\n",
        "clear_output()\n",
        "Audio(audio_array, rate=SAMPLE_RATE)\n",
        "\n",
        "#@markdown To download the generated audio, click on the 3 dots next to it and click download\n",
        "\n"
      ],
      "metadata": {
        "id": "NyYQ--3YksJY",
        "cellView": "form"
      },
      "execution_count": null,
      "outputs": []
    }
  ]
}