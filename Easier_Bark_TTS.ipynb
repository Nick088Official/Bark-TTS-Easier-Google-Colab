{
  "nbformat": 4,
  "nbformat_minor": 0,
  "metadata": {
    "colab": {
      "provenance": [],
      "include_colab_link": true
    },
    "kernelspec": {
      "name": "python3",
      "display_name": "Python 3"
    },
    "language_info": {
      "name": "python"
    },
    "accelerator": "GPU",
    "gpuClass": "standard"
  },
  "cells": [
    {
      "cell_type": "markdown",
      "metadata": {
        "id": "view-in-github",
        "colab_type": "text"
      },
      "source": [
        "<a href=\"https://colab.research.google.com/github/Nick088Official/Easier-Bark-TTS-Google-Colab/blob/main/Easier_Bark_TTS.ipynb\" target=\"_parent\"><img src=\"https://colab.research.google.com/assets/colab-badge.svg\" alt=\"Open In Colab\"/></a>"
      ]
    },
    {
      "cell_type": "markdown",
      "source": [
        "# Easier Bark TTS Google Colab\n",
        "Made by [Nick088](https://linktr.ee/Nick088)"
      ],
      "metadata": {
        "id": "rLyQUt8bgINx"
      }
    },
    {
      "cell_type": "code",
      "source": [
        "#@title Installk Bark TTS\n",
        "# install bark (make sure you have torch>=2 for much faster flash-attention)\n",
        "!pip install git+https://github.com/suno-ai/bark.git\n",
        "from bark import SAMPLE_RATE, generate_audio, preload_models\n",
        "from IPython.display import Audio\n",
        "\n",
        "preload_models()"
      ],
      "metadata": {
        "id": "YkizeTpG_3T7",
        "cellView": "form"
      },
      "execution_count": null,
      "outputs": []
    },
    {
      "cell_type": "code",
      "source": [
        "#@title Generate TTS\n",
        "text_prompt = \"Hello, this is a test!\" #@param {type:\"string\"}\n",
        "\n",
        "#@markdown If you don't Use a Voice Preset, you will get a random voice or music, its recomended you use one\n",
        "\n",
        "#@markdown You can browse the library of supported voice presets [HERE](https://suno-ai.notion.site/8b8e8749ed514b0cbf3f699013548683?v=bc67cff786b04b50b3ceb756fd05f68c), you only need to put the Prompt Name of the Voice Preset in the option \"Voice_Preset\" while \"Use_Voice_Presets\" option is checked\n",
        "\n",
        "Use_Voice_Presets = True #@param {type:\"boolean\"}\n",
        "\n",
        "Voice_Preset = \"v2/en_speaker_5\" #@param {type:\"string\"}\n",
        "\n",
        "if Use_Voice_Presets:\n",
        "    audio_array = generate_audio(text_prompt, history_prompt=Voice_Preset)\n",
        "else:\n",
        "    audio_array = generate_audio(text_prompt)\n",
        "\n",
        "Audio(audio_array, rate=SAMPLE_RATE)\n",
        "\n",
        "#@markdown To download the generated audio, click on the 3 dots next to it and click download\n",
        "\n"
      ],
      "metadata": {
        "id": "NyYQ--3YksJY",
        "cellView": "form"
      },
      "execution_count": null,
      "outputs": []
    }
  ]
}